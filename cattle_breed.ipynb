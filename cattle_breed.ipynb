{
  "nbformat": 4,
  "nbformat_minor": 0,
  "metadata": {
    "colab": {
      "provenance": [],
      "gpuType": "T4"
    },
    "kernelspec": {
      "name": "python3",
      "display_name": "Python 3"
    },
    "language_info": {
      "name": "python"
    },
    "accelerator": "GPU"
  },
  "cells": [
    {
      "cell_type": "code",
      "execution_count": null,
      "metadata": {
        "id": "Li-KOKGTFbGv"
      },
      "outputs": [],
      "source": [
        "!pip install kaggle"
      ]
    },
    {
      "cell_type": "code",
      "source": [
        "from google.colab import files\n",
        "files.upload()"
      ],
      "metadata": {
        "id": "LEaeaKRtFstI"
      },
      "execution_count": null,
      "outputs": []
    },
    {
      "cell_type": "code",
      "source": [
        "import os"
      ],
      "metadata": {
        "id": "9uDttcXxF3Ag"
      },
      "execution_count": null,
      "outputs": []
    },
    {
      "cell_type": "code",
      "source": [
        "!mkdir -p ~/.kaggle\n",
        "!cp /content/kaggle.json ~/.kaggle/\n",
        "!chmod 600 ~/.kaggle/kaggle.json"
      ],
      "metadata": {
        "id": "DVRk8XoHGvVF"
      },
      "execution_count": null,
      "outputs": []
    },
    {
      "cell_type": "code",
      "source": [
        "!kaggle datasets download -d anandkumarsahu09/cattle-breeds-dataset"
      ],
      "metadata": {
        "id": "ImoApN_zF-D4"
      },
      "execution_count": null,
      "outputs": []
    },
    {
      "cell_type": "code",
      "source": [
        "!pwd\n"
      ],
      "metadata": {
        "id": "XfCoR6AxMLte"
      },
      "execution_count": null,
      "outputs": []
    },
    {
      "cell_type": "code",
      "source": [
        "!ls"
      ],
      "metadata": {
        "id": "BlPbsn5BM2ey"
      },
      "execution_count": null,
      "outputs": []
    },
    {
      "cell_type": "code",
      "source": [
        "!unzip cattle-breeds-dataset.zip -d/content/cow_breed_data"
      ],
      "metadata": {
        "collapsed": true,
        "id": "0cmluz47M6_E"
      },
      "execution_count": null,
      "outputs": []
    },
    {
      "cell_type": "code",
      "source": [
        "!ls /content/cow_breed_data"
      ],
      "metadata": {
        "id": "T35iiy-wNSMH"
      },
      "execution_count": null,
      "outputs": []
    },
    {
      "cell_type": "code",
      "source": [
        "!ls /content/cow_breed_data/Cattle\\ Breeds"
      ],
      "metadata": {
        "id": "UHkcXM23NgYz"
      },
      "execution_count": null,
      "outputs": []
    },
    {
      "cell_type": "code",
      "source": [
        "# items = os.listdir('/content/cow_breed_data/Cattle Breeds')\n",
        "# items"
      ],
      "metadata": {
        "id": "jw0O0yUQN9tK"
      },
      "execution_count": null,
      "outputs": []
    },
    {
      "cell_type": "code",
      "source": [
        "os.listdir('/content/cow_breed_data/Cattle Breeds/Brown Swiss cattle')"
      ],
      "metadata": {
        "collapsed": true,
        "id": "2Lz9lPGgDsnc"
      },
      "execution_count": null,
      "outputs": []
    },
    {
      "cell_type": "code",
      "source": [
        "import os.path\n",
        "'''dirpath:root,\n",
        "dirnames:subdirectories in current directory(dirs):['subdir1','subdir2']\n",
        "filenames:files in current directory'''\n",
        "data = []\n",
        "for dirpath,dirnames,filenames in os.walk('/content/cow_breed_data'):\n",
        "  if not filenames:\n",
        "    continue\n",
        "  i = 0\n",
        "  for file in filenames:\n",
        "    i+=1\n",
        "    if file.lower().endswith(('.jpg','jpeg','.png')):\n",
        "      full_path = os.path.join(dirpath,file)\n",
        "      relative_path = os.path.relpath(full_path,'/content/cow_breed_data')\n",
        "      breed_class = os.path.basename(dirpath)\n",
        "\n",
        "      data.append({\n",
        "          'image_path':relative_path,\n",
        "          'breed_class':breed_class,\n",
        "          'full_path':full_path\n",
        "      })\n",
        "print(f\"found{len(data)} images\")\n"
      ],
      "metadata": {
        "id": "Ou0XAvcIGfu-"
      },
      "execution_count": null,
      "outputs": []
    },
    {
      "cell_type": "code",
      "source": [
        "from collections import Counter\n",
        "item = [d['breed_class'] for d in data]\n",
        "item_=dict(Counter(item))\n",
        "item_\n"
      ],
      "metadata": {
        "id": "nwK_5pmmJhNE"
      },
      "execution_count": null,
      "outputs": []
    },
    {
      "cell_type": "code",
      "source": [
        "items = os.listdir('/content/cow_breed_data/Cattle Breeds')\n",
        "items.sort()\n",
        "label_map = {name:idx for idx,name in enumerate(items)}\n",
        "class_name = items\n",
        "\n",
        "for name,idx in label_map.items():\n",
        "  print(f\"{idx}:{name}\")\n",
        "\n",
        "for d in data:\n",
        "  d['label'] = label_map[d['breed_class']]\n",
        "data[:2]"
      ],
      "metadata": {
        "id": "YTIRz5-1VgpZ",
        "collapsed": true
      },
      "execution_count": null,
      "outputs": []
    },
    {
      "cell_type": "code",
      "source": [
        "from sklearn.model_selection import train_test_split\n",
        "\n",
        "labels = [d['label'] for d in data]\n",
        "\n",
        "train_data,test_data = train_test_split(\n",
        "    data,\n",
        "    test_size = 0.2,\n",
        "    random_state=42,\n",
        "    stratify=labels#ensures that training data is distributed by 80%  of each breed and test_data has 20% of each breed\n",
        ")\n",
        "\n",
        "train_classes = Counter([d['label'] for d in train_data])\n",
        "test_classes = Counter([d['label'] for d in test_data])"
      ],
      "metadata": {
        "id": "-MTJqe7iMXMU"
      },
      "execution_count": null,
      "outputs": []
    },
    {
      "cell_type": "code",
      "source": [],
      "metadata": {
        "collapsed": true,
        "id": "HcbzGtrVMg2t"
      },
      "execution_count": null,
      "outputs": []
    },
    {
      "cell_type": "code",
      "source": [
        "import tensorflow as tf\n",
        "from tensorflow.keras.layers import Dense,Flatten,Conv2D\n",
        "from tensorflow.keras import Model\n",
        "from io import BytesIO"
      ],
      "metadata": {
        "id": "U9z6QbvpPkhC"
      },
      "execution_count": null,
      "outputs": []
    },
    {
      "cell_type": "code",
      "source": [
        "def read_images(add_list):\n",
        "  images = []\n",
        "\n",
        "  for d in add_list:\n",
        "    path = d['full_path']\n",
        "    img = tf.io.read_file(path)\n",
        "    img = tf.image.decode_jpeg(img,channels=3)\n",
        "    img = tf.image.resize(img,[300,300])\n",
        "    img = tf.cast(img,tf.float32)/255.0\n",
        "    images.append(img)\n",
        "  return tf.stack(images)#combine a list of tensors into single tensor\n",
        "\n"
      ],
      "metadata": {
        "id": "6ybLVp9aa_Yq"
      },
      "execution_count": null,
      "outputs": []
    },
    {
      "cell_type": "code",
      "source": [
        "import pandas as pd\n",
        "items = os.listdir('/content/cow_breed_data/Cattle Breeds')\n",
        "items.sort()\n",
        "label_map = {name:idx for idx,name in enumerate(items)}\n",
        "\n",
        "for d in data:\n",
        "  d['label'] = label_map[d['breed_class']]\n",
        "\n",
        "\n"
      ],
      "metadata": {
        "id": "v4QPIFBrdpnv"
      },
      "execution_count": null,
      "outputs": []
    },
    {
      "cell_type": "code",
      "source": [
        "import pandas as pd\n",
        "def read_label(add_list):\n",
        "  labels = [d['label'] for d in add_list]\n",
        "\n",
        "  return tf.constant(labels,dtype=tf.int32)"
      ],
      "metadata": {
        "id": "0fb6T9MEdM1P",
        "collapsed": true
      },
      "execution_count": null,
      "outputs": []
    },
    {
      "cell_type": "code",
      "source": [
        "X_train = read_images(train_data)\n",
        "y_train = read_label(train_data)\n",
        "X_test = read_images(test_data)\n",
        "y_test = read_label(test_data)\n",
        "print(f\"X_train shape: {X_train.shape}\")\n",
        "print(f\"y_train shape: {y_train.shape}\")\n",
        "print(f\"X_test shape: {X_test.shape}\")\n",
        "print(f\"y_test shape: {y_test.shape}\")\n",
        "\n",
        "train_dataset = tf.data.Dataset.from_tensor_slices((X_train,y_train)).batch(32).prefetch(tf.data.AUTOTUNE)\n",
        "test_dataset = tf.data.Dataset.from_tensor_slices((X_test,y_test)).batch(32).prefetch(tf.data.AUTOTUNE)"
      ],
      "metadata": {
        "id": "twJ-TsMXCXU2"
      },
      "execution_count": null,
      "outputs": []
    },
    {
      "cell_type": "code",
      "source": [
        "from tensorflow import keras\n",
        "from tensorflow.keras import layers\n",
        "def create_custom_cnn_functional(input_shape=(300,300,3),num_classes=5):\n",
        "  #Create input TENSOR (placeholder for data)\n",
        "  inputs = keras.Input(shape=input_shape)\n",
        "\n",
        "  #Apply layer to the tensor, get output tensor\n",
        "  x = layers.Conv2D(16,(3,3),activation='relu')(inputs)\n",
        "  x = layers.BatchNormalization()(x)\n",
        "  x = layers.MaxPooling2D((2,2))(x)\n",
        "\n",
        "  x = layers.Conv2D(32,(3,3),activation='relu')(x)\n",
        "  x = layers.BatchNormalization()(x)\n",
        "  x = layers.MaxPooling2D((2,2))(x)\n",
        "\n",
        "  x = layers.Conv2D(64,(3,3),activation='relu')(x)\n",
        "  x = layers.BatchNormalization()(x)\n",
        "  x = layers.MaxPooling2D((2,2))(x)\n",
        "\n",
        "  x = layers.Conv2D(128,(3,3),activation='relu')(x)\n",
        "  x = layers.BatchNormalization()(x)\n",
        "  x = layers.MaxPooling2D((2,2))(x)\n",
        "\n",
        "  x = layers.Conv2D(256,(3,3),activation='relu')(x)\n",
        "  x = layers.BatchNormalization()(x)\n",
        "  x = layers.MaxPooling2D((2,2))(x)\n",
        "\n",
        "  x = layers.Conv2D(512,(3,3),activation='relu')(x)\n",
        "  x = layers.BatchNormalization()(x)\n",
        "  x = layers.MaxPooling2D((2,2))(x)\n",
        "\n",
        "\n",
        "  #Classification\n",
        "  #Flatten : keeps every pixels info\n",
        "  x = layers.GlobalAveragePooling2D()(x)#keeps summary of each feature map\n",
        "  x = layers.Dense(256,activation='relu')(x)#it has mix of small  traits\n",
        "  x = layers.Dropout(0.5)(x)\n",
        "  x = layers.Dense(128,activation='relu')(x)#combine smaller clues into patterns which distinguish between different breeds\n",
        "  x = layers.Dropout(0.3)(x)\n",
        "  outputs = layers.Dense(num_classes,activation='softmax')(x)\n",
        "\n",
        "  model = keras.Model(inputs=inputs,outputs=outputs)\n",
        "  return model\n",
        "\n"
      ],
      "metadata": {
        "id": "cFRipt8kDX6G"
      },
      "execution_count": null,
      "outputs": []
    },
    {
      "cell_type": "code",
      "source": [
        "model = create_custom_cnn_functional()\n",
        "model.compile(\n",
        "    optimizer=keras.optimizers.Adam(learning_rate=0.0005),\n",
        "    loss = 'sparse_categorical_crossentropy',\n",
        "    metrics=['accuracy']\n",
        ")\n",
        "model.summary()"
      ],
      "metadata": {
        "id": "7LM6f1RmWFYN",
        "collapsed": true
      },
      "execution_count": null,
      "outputs": []
    },
    {
      "cell_type": "code",
      "source": [
        "from tensorflow.keras.callbacks import EarlyStopping,ModelCheckpoint\n",
        "early_stop = EarlyStopping(\n",
        "    monitor = 'val_loss',\n",
        "    patience = 20,\n",
        "    restore_best_weights=True\n",
        ")\n",
        "\n",
        "best_model = ModelCheckpoint(\n",
        "    #after training file will be saved at\n",
        "    'best_cattle_model.keras',\n",
        "    monitor = 'val_accuracy',\n",
        "    save_best_only=True,\n",
        "    verbose=1\n",
        ")\n",
        "\n",
        "callbacks = [early_stop,best_model]"
      ],
      "metadata": {
        "id": "bHckUEUZMXAd"
      },
      "execution_count": null,
      "outputs": []
    },
    {
      "cell_type": "code",
      "source": [
        "history = model.fit(\n",
        "    train_dataset,\n",
        "    validation_data=test_dataset,\n",
        "    epochs=100,\n",
        "    callbacks=callbacks,\n",
        "    verbose=1\n",
        ")"
      ],
      "metadata": {
        "id": "e7FFFVAsTjUw",
        "collapsed": true
      },
      "execution_count": null,
      "outputs": []
    },
    {
      "cell_type": "code",
      "source": [
        "# ModelCheckpoint saves the best model during training\n",
        "# It monitors validation accuracy and keeps the model only when it improves\n",
        "\n",
        "# train_dataset and test_dataset are created using tf.data for efficient loading\n",
        "# .batch(32) splits data into groups of 32 samples each\n",
        "# .prefetch() helps speed up training by preparing data while the model trains\n",
        "\n",
        "# batch_size in model.fit() is NOT needed if using tf.data.Dataset (already batched)\n",
        "\n",
        "# model.fit() shows estimated accuracy after each batch (may look slightly higher)\n",
        "# model.evaluate() checks accuracy on the whole dataset (more exact)\n",
        "# So, small difference between train_accuracy during training and evaluate() is normal\n"
      ],
      "metadata": {
        "id": "lFeqWC27fVeB"
      },
      "execution_count": null,
      "outputs": []
    },
    {
      "cell_type": "code",
      "source": [
        "test_loss,test_accuracy = model.evaluate(test_dataset,verbose=1)\n",
        "\n",
        "train_loss,train_accuracy = model.evaluate(train_dataset)"
      ],
      "metadata": {
        "id": "GNBsiK8WT9X8"
      },
      "execution_count": null,
      "outputs": []
    },
    {
      "cell_type": "markdown",
      "source": [
        "step_accuracy → accuracy for one batch during training\n",
        "calculated after each training step on that small batch\n",
        "\n",
        "val_accuracy → accuracy on unseen validation data\n",
        "calculated after each full epoch (after all batches)\n",
        "\n"
      ],
      "metadata": {
        "id": "QGgxVWVlc1m0"
      }
    },
    {
      "cell_type": "code",
      "source": [
        "test_accuracy"
      ],
      "metadata": {
        "id": "hqVPlz07cl4m"
      },
      "execution_count": null,
      "outputs": []
    },
    {
      "cell_type": "code",
      "source": [
        "import matplotlib.pyplot as plt\n",
        "\n",
        "fig, axes = plt.subplots(1, 2, figsize=(15, 5))\n",
        "\n",
        "axes[0].plot(history.history['accuracy'],label='Training Accuracy')\n",
        "axes[0].plot(history.history['val_accuracy'],label='validation Accuracy')\n",
        "axes[0].set_title('Model Accuracy Over Epochs')\n",
        "axes[0].set_xlabel('Epoch')\n",
        "axes[0].set_ylabel('Accuracy')\n",
        "axes[0].legend()\n",
        "axes[0].grid(True)\n",
        "\n",
        "axes[1].plot(history.history['loss'],label=\"training loss\")\n",
        "axes[1].plot(history.history['val_loss'],label='validation loss')\n",
        "axes[1].set_title('Model Loss Over Epochs')\n",
        "axes[1].set_xlabel('Epoch')\n",
        "axes[1].set_ylabel('Loss')\n",
        "axes[1].legend()\n",
        "axes[1].grid(True)\n",
        "\n",
        "plt.tight_layout()\n",
        "plt.show()"
      ],
      "metadata": {
        "collapsed": true,
        "id": "NcYQl4OGcp0H"
      },
      "execution_count": null,
      "outputs": []
    },
    {
      "cell_type": "markdown",
      "source": [
        "Make Predictions"
      ],
      "metadata": {
        "id": "4zhjwiypmE0I"
      }
    },
    {
      "cell_type": "code",
      "source": [
        "import numpy as np\n",
        "\n",
        "predictions = model.predict(test_dataset)\n",
        "class_names = os.listdir('/content/cow_breed_data/Cattle Breeds')\n",
        "predicted_classes = np.argmax(predictions,axis=1)\n",
        "predicted_classes[:10]\n",
        "y_test[:10].numpy()"
      ],
      "metadata": {
        "id": "IJHAAQUOmVb1"
      },
      "execution_count": null,
      "outputs": []
    },
    {
      "cell_type": "code",
      "source": [
        "for i in range(10):\n",
        "  true_label = y_test[i].numpy()\n",
        "  pred_label = predicted_classes[i]\n",
        "  confidence = predictions[i][pred_label]*100\n",
        "  print(f\"Image {i+1}:\")\n",
        "  print(f\"  True: {class_names[true_label]}\")\n",
        "  print(f\"  Predicted: {class_names[pred_label]} ({confidence:.2f}% confidence)\")\n",
        "  print(f\"  Correct: {'yes' if true_label == pred_label else 'No'}\")\n",
        "  print()"
      ],
      "metadata": {
        "id": "1Sf5IzdFnhLX"
      },
      "execution_count": null,
      "outputs": []
    },
    {
      "cell_type": "code",
      "source": [
        "def show_predictions(model, X_test, y_test, num_images=9):\n",
        "  fig,axes = plt.subplots(3,3,figsize=(15,15))\n",
        "  axes = axes.ravel()\n",
        "\n",
        "  indices = np.random.choice(len(X_test),num_images,replace=False)\n",
        "\n",
        "  for i,idx in enumerate(indices):\n",
        "\n",
        "    img = X_test[idx]\n",
        "    true_lable = y_test[idx].numpy()\n",
        "    img_batch = tf.expand_dims(img, 0)  # Add batch dimension\n",
        "\n",
        "    pred = model.predict(img_batch)\n",
        "    pred_label = np.argmax(pred[0])\n",
        "    confidence = pred[0][pred_label] * 100\n",
        "\n",
        "    axes[i].imshow(img)\n",
        "    axes[i].axis('off')\n",
        "\n",
        "    color = 'green' if true_label == pred_label else 'red'\n",
        "    title = f\"True: {class_names[true_label]}\\n\"\n",
        "    title += f\"Pred: {class_names[pred_label]}\\n\"\n",
        "    title += f\"Confidence: {confidence:.1f}%\"\n",
        "\n",
        "    axes[i].set_title(title, color=color, fontsize=10)\n",
        "  plt.tight_layout()\n",
        "  plt.show()"
      ],
      "metadata": {
        "id": "Xm9ooTIsrs8O"
      },
      "execution_count": null,
      "outputs": []
    },
    {
      "cell_type": "code",
      "source": [
        "show_predictions(model, X_test, y_test, num_images=9)\n"
      ],
      "metadata": {
        "id": "jvnfDd9dutp6"
      },
      "execution_count": null,
      "outputs": []
    },
    {
      "cell_type": "code",
      "source": [],
      "metadata": {
        "id": "4yed2qAVuvep"
      },
      "execution_count": null,
      "outputs": []
    }
  ]
}